{
 "cells": [
  {
   "cell_type": "code",
   "execution_count": 1,
   "metadata": {},
   "outputs": [],
   "source": [
    "\n",
    "#existing = [1, 2, 3]\n",
    "#changes = [2,3,4]"
   ]
  },
  {
   "cell_type": "code",
   "execution_count": null,
   "metadata": {},
   "outputs": [],
   "source": [
    "# With a list of lists\n",
    "#existing = [[1,\"Mark\"],[2,\"Steven\"]]\n",
    "\n",
    "\n",
    "# With a list of dictionaries:\n",
    "#existing = [{ \"id\": 1, \"name\": \"Mark\" }, { \"id\": 2, \"name\":\"Steven\" }, { \"id\": 3, \"name\":\"Chiz\" }]\n",
    "#changes = [{ \"id\": 2, \"name\":\"Stephen\" }, { \"id\": 3, \"name\":\"Chiz\" }, { \"id\": 4, \"name\": \"Liz\" }]\n"
   ]
  },
  {
   "cell_type": "code",
   "execution_count": 63,
   "metadata": {},
   "outputs": [],
   "source": [
    "class User:\n",
    "    def __init__(self, id, name):\n",
    "        self.id = id\n",
    "        self.name = name\n",
    "    def __repr__(self):\n",
    "        return self.name + \" (\" + str(self.id) + \")\""
   ]
  },
  {
   "cell_type": "code",
   "execution_count": 72,
   "metadata": {},
   "outputs": [],
   "source": [
    "# With two lists of objects (as defined by class User):\n",
    "existing = [User(1, \"Mark\"), User(2, \"Steven\"), User(3, \"Chiz\")]\n",
    "changes = [User(2, \"Stephen\"), User(3, \"Chiz\"), User(4, \"Liz\")]"
   ]
  },
  {
   "cell_type": "code",
   "execution_count": 82,
   "metadata": {},
   "outputs": [
    {
     "name": "stdout",
     "output_type": "stream",
     "text": [
      "Stephen (2)\n",
      "Chiz (3)\n",
      "Liz (4)\n"
     ]
    }
   ],
   "source": [
    "# Convert to a dictionary of objects keyed by id:\n",
    "existing_dict = {e.id:e for e in existing}\n",
    "changes_dict = {c.id:c for c in changes}\n",
    "\n",
    "for changed_id in changes_dict:\n",
    "    print(changes_dict[4])"
   ]
  },
  {
   "cell_type": "code",
   "execution_count": 86,
   "metadata": {},
   "outputs": [
    {
     "name": "stdout",
     "output_type": "stream",
     "text": [
      "[Liz (4)]\n",
      "[Stephen (2)]\n",
      "[Mark (1)]\n"
     ]
    }
   ],
   "source": [
    "added = [changes_dict[changed_id]\n",
    "         for changed_id in changes_dict \n",
    "         if changed_id not in existing_dict]\n",
    "\n",
    "updated = [changes_dict[changed_id] \n",
    "         for changed_id in changes_dict \n",
    "         if changed_id in existing_dict and \n",
    "           changes_dict[changed_id].name != existing_dict[changed_id].name]\n",
    "\n",
    "deleted = [existing_dict[existing_id] \n",
    "         for existing_id in existing_dict \n",
    "         if existing_id not in changes_dict]\n",
    "\n",
    "\n",
    "print(added)\n",
    "print(updated)\n",
    "print(deleted)"
   ]
  },
  {
   "cell_type": "code",
   "execution_count": 68,
   "metadata": {},
   "outputs": [
    {
     "name": "stdout",
     "output_type": "stream",
     "text": [
      "4\n"
     ]
    }
   ],
   "source": [
    "added_ids = []\n",
    "for user_id in changed_ids:\n",
    "    found = False\n",
    "    for existing_user_id in existing_ids:\n",
    "        if user_id == existing_user_id:\n",
    "            found = True\n",
    "            break\n",
    "    if found == False:\n",
    "        added_ids.append(user_id)\n",
    "\n",
    "for a in added_ids:\n",
    "    print(a)"
   ]
  },
  {
   "cell_type": "code",
   "execution_count": null,
   "metadata": {},
   "outputs": [],
   "source": []
  },
  {
   "cell_type": "code",
   "execution_count": null,
   "metadata": {},
   "outputs": [],
   "source": []
  }
 ],
 "metadata": {
  "kernelspec": {
   "display_name": "Python 3",
   "language": "python",
   "name": "python3"
  },
  "language_info": {
   "codemirror_mode": {
    "name": "ipython",
    "version": 3
   },
   "file_extension": ".py",
   "mimetype": "text/x-python",
   "name": "python",
   "nbconvert_exporter": "python",
   "pygments_lexer": "ipython3",
   "version": "3.7.1"
  }
 },
 "nbformat": 4,
 "nbformat_minor": 2
}
